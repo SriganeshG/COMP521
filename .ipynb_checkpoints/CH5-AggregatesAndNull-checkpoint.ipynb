{
 "cells": [
  {
   "cell_type": "markdown",
   "metadata": {
    "slideshow": {
     "slide_type": "-"
    }
   },
   "source": [
    "# Chapter 5. Aggregates and Null"
   ]
  },
  {
   "cell_type": "markdown",
   "metadata": {
    "slideshow": {
     "slide_type": "-"
    }
   },
   "source": [
    "## SQL's Aggregate Operators\n",
    "\n",
    "    COUNT( * )\n",
    "    COUNT( [DISTINCT] A)\n",
    "    SUM( [DISTINCT] A)\n",
    "    AVG( [DISTINCT] A)\n",
    "    MAX( A )\n",
    "    MIN( A )\n",
    "where A is a single column\n",
    "\n",
    "* Significant extension of relational algebra\n",
    "* Computation and summarization operations\n",
    "* Appears in _target-list_ of query\n",
    "* Results _aggregate_ rather than appear individually\n"
   ]
  },
  {
   "cell_type": "markdown",
   "metadata": {},
   "source": [
    "## Setup for live examples\n",
    "\n",
    "This document is a Jupyter Notebook (or a static HTML page generated from it). This way we can try live examples in class and you can play with them afterward.\n",
    "\n",
    "First we'll do some setup of the python environment."
   ]
  },
  {
   "cell_type": "code",
   "execution_count": null,
   "metadata": {
    "collapsed": true
   },
   "outputs": [],
   "source": [
    "from sqlite3 import connect\n"
   ]
  },
  {
   "cell_type": "markdown",
   "metadata": {},
   "source": [
    "### Construct some tables"
   ]
  },
  {
   "cell_type": "code",
   "execution_count": null,
   "metadata": {
    "collapsed": true
   },
   "outputs": [],
   "source": [
    "conn = connect(\":memory:\")\n",
    "cursor = conn.cursor()\n",
    "cursor.execute(\"\"\"\n",
    "create table Sailors \n",
    "    (sid integer primary key, \n",
    "     sname text, \n",
    "     rating integer, \n",
    "     age real)\n",
    "\"\"\")\n",
    "sailors = [(22, 'Dustin', 7, 45.0),\n",
    "           (29, 'Brutus', 1, 33.0),\n",
    "           (31, 'Lubber', 8, 55.5),\n",
    "           (32, 'Andy', 8, 25.5),\n",
    "           (58, 'Rusty', 10, 35.0),\n",
    "           (64, 'Horatio', 7, 35.0),\n",
    "           (71, 'Zorba', 10, 16.0),\n",
    "           (74, 'Horatio', 9, 35.0),\n",
    "           (85, 'Art', 3, 25.5),\n",
    "           (95, 'Bob', 3, 63.5),\n",
    "           (96, 'Frodo', 3, 25.5),\n",
    "           (99, 'Bob jr.', 3, 63.5),\n",
    "           ]\n",
    "for sailor in sailors:\n",
    "    cursor.execute(\"insert into Sailors values(?, ?, ?, ?)\", sailor)\n",
    "\n",
    "cursor.execute(\"\"\"\n",
    "create table Boats\n",
    "    (bid integer primary key, \n",
    "     bname text, \n",
    "     color text)\n",
    "\"\"\")\n",
    "boats = [(101, \"Interlake\", \"blue\"),\n",
    "         (102, \"Interlake\", \"red\"),\n",
    "         (103, \"Clipper\", \"green\"),\n",
    "         (104, \"Marine\", \"red\")]\n",
    "for boat in boats:\n",
    "    cursor.execute(\"insert into Boats values (?, ?, ?)\", boat)\n",
    "\n",
    "cursor.execute(\"\"\"\n",
    "create table Reserves \n",
    "    (sid integer, \n",
    "     bid integer, \n",
    "     day text, \n",
    "     primary key (sid, bid, day) \n",
    "     foreign key (sid) references Sailors\n",
    "     foreign key (bid) references Boats)\n",
    "\"\"\")\n",
    "reserves = [(22, 101, '10/10/98'),\n",
    "            (22, 102, '10/10/98'),\n",
    "            (22, 103, '10/8/98'),\n",
    "            (22, 104, '10/7/98'),\n",
    "            (31, 102, '11/10/98'),\n",
    "            (31, 103, '11/6/98'),\n",
    "            (64, 101, '9/5/98'),\n",
    "            (64, 102, '9/8/98'),\n",
    "            (74, 103, '9/8/98')]\n",
    "for reserve in reserves:\n",
    "    cursor.execute(\"insert into Reserves values(?, ?, ?)\", reserve)\n"
   ]
  },
  {
   "cell_type": "markdown",
   "metadata": {},
   "source": [
    "## Examples\n",
    "\n",
    "How many instances in the Sailors relation?"
   ]
  },
  {
   "cell_type": "code",
   "execution_count": null,
   "metadata": {},
   "outputs": [],
   "source": [
    "cursor.execute(\"\"\"\n",
    "select count(*) from Sailors S\n",
    "\"\"\")\n",
    "#for row in cursor:\n",
    "#    print row\n",
    "f = cursor.fetchone()\n",
    "q1 = f[0]\n",
    "print(q1)\n"
   ]
  },
  {
   "cell_type": "markdown",
   "metadata": {},
   "source": [
    "Average age of Sailors with a rating of 10?"
   ]
  },
  {
   "cell_type": "code",
   "execution_count": null,
   "metadata": {},
   "outputs": [],
   "source": [
    "cursor.execute(\"\"\"\n",
    "select avg(S.age) \n",
    "    from Sailors S\n",
    "    where S.rating=10\n",
    "\"\"\")\n",
    "for row in cursor:\n",
    "    print(row)"
   ]
  },
  {
   "cell_type": "markdown",
   "metadata": {},
   "source": [
    "Names of all Sailors who have achieved the maximum rating."
   ]
  },
  {
   "cell_type": "code",
   "execution_count": null,
   "metadata": {},
   "outputs": [],
   "source": [
    "cursor.execute(\"\"\"\n",
    "select S.sname from Sailors S\n",
    "    where S.rating=(select max(S2.rating) from Sailors S2)\n",
    "\"\"\")\n",
    "for row in cursor:\n",
    "    print(row)"
   ]
  },
  {
   "cell_type": "markdown",
   "metadata": {},
   "source": [
    "How many distinct ratings for Sailors less than 40 years old?"
   ]
  },
  {
   "cell_type": "code",
   "execution_count": null,
   "metadata": {},
   "outputs": [],
   "source": [
    "cursor.execute(\"\"\"\n",
    "select count(distinct S.rating)\n",
    "    from Sailors S\n",
    "    where S.age < 40.0\n",
    "\"\"\")\n",
    "for row in cursor:\n",
    "    print(row)"
   ]
  },
  {
   "cell_type": "markdown",
   "metadata": {},
   "source": [
    "Look at the query above. We didn't count them all, we counted the distinct ones."
   ]
  },
  {
   "cell_type": "code",
   "execution_count": null,
   "metadata": {},
   "outputs": [],
   "source": [
    "cursor.execute(\"\"\"\n",
    "select  S.rating\n",
    "    from Sailors S\n",
    "    where S.age < 40.0\n",
    "\"\"\")\n",
    "for row in cursor:\n",
    "    print(row)"
   ]
  },
  {
   "cell_type": "markdown",
   "metadata": {},
   "source": [
    "How many reservations were made by Sailors less than 40 years old?"
   ]
  },
  {
   "cell_type": "code",
   "execution_count": null,
   "metadata": {},
   "outputs": [],
   "source": [
    "cursor.execute(\"\"\"\n",
    "select count(*)\n",
    "    from Sailors S, Reserves R\n",
    "    where S.sid = R.sid and S.age < 40\n",
    "\"\"\")\n",
    "for row in cursor:\n",
    "    print(row)"
   ]
  },
  {
   "cell_type": "markdown",
   "metadata": {},
   "source": [
    "## Find name and age of the oldest Sailors\n",
    "\n",
    "This first version is invalid in SQL because anything **not** aggregated in the _select-list_ must be named in the _grouping-list_. sqlite appears to accept it. But its interpretation is broken because it doesn't handle multiple sailors with the same age; it is reporting one that it saw and you can't be sure which."
   ]
  },
  {
   "cell_type": "code",
   "execution_count": null,
   "metadata": {},
   "outputs": [],
   "source": [
    "cursor.execute(\"\"\"\n",
    "select S.sname, max(S.age) from Sailors S\n",
    "\"\"\")\n",
    "for row in cursor:\n",
    "    print(row)"
   ]
  },
  {
   "cell_type": "code",
   "execution_count": null,
   "metadata": {},
   "outputs": [],
   "source": [
    "cursor.execute(\"\"\"\n",
    "select S.sname, S.age\n",
    "    from Sailors S\n",
    "    where S.age = \n",
    "        (select max(S2.age)\n",
    "         from Sailors S2)\n",
    "\"\"\")\n",
    "for row in cursor:\n",
    "    print(row)"
   ]
  },
  {
   "cell_type": "markdown",
   "metadata": {},
   "source": [
    "## Motivation for Grouping\n",
    "\n",
    "* So far, we've applied aggregate operators to _all_ (qualifying) tuples. Sometimes, we want to apply them to _subgroups_.\n",
    "* Consider: _Find the age of the youngest sailor for each rating level_\n",
    "  + In general, we don't know hay many rating levels exist, and what they are.\n",
    "  + Suppose we know that rating values go from 1 to 10; we **could** write 10 queries like this:"
   ]
  },
  {
   "cell_type": "code",
   "execution_count": null,
   "metadata": {},
   "outputs": [],
   "source": [
    "for i in range(1, 11):\n",
    "    cursor.execute(\"\"\"\n",
    "    select min(S.age)\n",
    "        from Sailors S\n",
    "        where S.rating=?\n",
    "    \"\"\", (i,))\n",
    "    for row in cursor:\n",
    "        print(i, row)"
   ]
  },
  {
   "cell_type": "markdown",
   "metadata": {},
   "source": [
    "Instead we can use **group by** and **having**\n",
    "\n",
    "## Queries with group by and having\n",
    "\n",
    "**select** [**distinct**] _target-list_\n",
    "**from** _relation-list_\n",
    "**where** _qualification_\n",
    "**group by** _grouping-list_\n",
    "**having** _group-qualification_\n",
    "\n",
    "* The _target-list_ contains\n",
    " 1. _attribute-list_\n",
    " 2. terms with aggregate operations\n",
    "* The _attribute-list_ (1) must be a subset of _grouping-list_. Each answer tuple corresponds to a _group_, and the attributes must have a single value per group. (A _group_ is a set of tuples that have the same value for all attributes in _grouping-list_.)"
   ]
  },
  {
   "cell_type": "markdown",
   "metadata": {},
   "source": [
    "## Conceptual Evaluation\n",
    "+ The cross-product of _relation-list_ is computed\n",
    "+ tuples that fail qualification are discarded\n",
    "+ unnecessary fields are deleted,\n",
    "+ the remaining tuples are partitioned into groups by the value of attributes in grouping-list\n",
    "+ The _group-qualification_ is then applied to eliminate some groups. Expressions in _group-qualification_ must have a single value per group. In effect, an attribute in _group-qualification_ that is not an argument to an aggregate op also appears in _grouping-list_. (SQL does not exploit primary key semantics here)\n",
    "+ One answer tuple is generated per qualifying group.\n"
   ]
  },
  {
   "cell_type": "markdown",
   "metadata": {},
   "source": [
    "## Group by examples\n",
    "\n",
    "### Find the age of the youngest sailor with age >= 18 for each rating with at least 2 such sailors"
   ]
  },
  {
   "cell_type": "code",
   "execution_count": null,
   "metadata": {},
   "outputs": [],
   "source": [
    "cursor.execute(\"\"\"\n",
    "select S.rating, min(S.age) as minage\n",
    "    from Sailors S\n",
    "    where S.age >= 18\n",
    "    group by S.rating\n",
    "    having count(*) > 1\n",
    "\"\"\")\n",
    "for row in cursor:\n",
    "    print(row)"
   ]
  },
  {
   "cell_type": "markdown",
   "metadata": {},
   "source": [
    "#### Let's break that down into steps to see what is happening.\n",
    "\n",
    "<div style=\"width:100%;overflow:auto\">\n",
    "\n",
    "<div style=\"width:25%;float:left\">\n",
    "Select age and rating.\n",
    "<table>\n",
    "    <tr><th>rating</th><th>age</th></tr>\n",
    "    <tr><td>7</td><td>45.0</td></tr>\n",
    "    <tr><td>1</td><td>33.0</td></tr>\n",
    "    <tr><td>8</td><td>55.5</td></tr>\n",
    "    <tr><td>8</td><td>25.5</td></tr>\n",
    "    <tr><td>10</td><td>35.0</td></tr>\n",
    "    <tr><td>7</td><td>35.0</td></tr>\n",
    "    <tr><td>10</td><td>16.0</td></tr>\n",
    "    <tr><td>9</td><td>35.0</td></tr>\n",
    "    <tr><td>3</td><td>25.5</td></tr>\n",
    "    <tr><td>3</td><td>63.5</td></tr>\n",
    "    <tr><td>3</td><td>25.5</td></tr>\n",
    "</table>\n",
    "</div>\n",
    "<div style=\"width:25%;float:left\">\n",
    "\n",
    "\n",
    "Apply where >= 18.\n",
    "\n",
    "<table>\n",
    "    <tr><th>rating</th><th>age</th></tr>\n",
    "    <tr><td>1</td><td>33.0</td></tr>\n",
    "    <tr><td>3</td><td>25.5</td></tr>\n",
    "    <tr><td>3</td><td>63.5</td></tr>\n",
    "    <tr><td>3</td><td>25.5</td></tr>\n",
    "    <tr><td>7</td><td>45.0</td></tr>\n",
    "    <tr><td>7</td><td>35.0</td></tr>\n",
    "    <tr><td>8</td><td>55.5</td></tr>\n",
    "    <tr><td>8</td><td>25.5</td></tr>\n",
    "    <tr><td>9</td><td>35.0</td></tr>\n",
    "    <tr><td>10</td><td>35.0</td></tr>\n",
    "</table>\n",
    "</div>\n",
    "<div style=\"width:25%;float:left\">\n",
    "\n",
    "Eliminate groups < 2\n",
    "\n",
    "<table>\n",
    "    <tr><th>rating</th><th>age</th></tr>\n",
    "    <tr><td>3</td><td>25.5</td></tr>\n",
    "    <tr><td>3</td><td>63.5</td></tr>\n",
    "    <tr><td>3</td><td>25.5</td></tr>\n",
    "    <tr><td>7</td><td>45.0</td></tr>\n",
    "    <tr><td>7</td><td>35.0</td></tr>\n",
    "    <tr><td>8</td><td>55.5</td></tr>\n",
    "    <tr><td>8</td><td>25.5</td></tr>\n",
    "</table>\n",
    "</div>\n",
    "\n",
    "<div style=\"width:25%;float:left\">\n",
    "\n",
    "Aggregate over each group.\n",
    "\n",
    "<table>\n",
    "    <tr><th>rating</th><th>age</th></tr>\n",
    "    <tr><td>3</td><td>25.5</td></tr>\n",
    "    <tr><td>7</td><td>35.0</td></tr>\n",
    "    <tr><td>8</td><td>25.5</td></tr>\n",
    "</table>\n",
    "</div>\n",
    "\n"
   ]
  },
  {
   "cell_type": "markdown",
   "metadata": {},
   "source": [
    "### Find the age of the youngest Sailor with age >= 18, for each rating with at least 2 sailors between 18 and 60."
   ]
  },
  {
   "cell_type": "code",
   "execution_count": null,
   "metadata": {},
   "outputs": [],
   "source": [
    "cursor.execute(\"\"\"\n",
    "select S.rating, min(S.age)\n",
    "    from Sailors S\n",
    "    where S.age >= 18 and S.age <= 60\n",
    "    group by S.rating\n",
    "    having count(*) > 1\n",
    "\"\"\")\n",
    "for row in cursor:\n",
    "    print(row)"
   ]
  },
  {
   "cell_type": "markdown",
   "metadata": {},
   "source": [
    "I can name an aggregate and use it in other expressions."
   ]
  },
  {
   "cell_type": "code",
   "execution_count": null,
   "metadata": {},
   "outputs": [],
   "source": [
    "# random example with minage\n",
    "cursor.execute(\"\"\"\n",
    "select S.rating, min(S.age) as minage\n",
    "    from Sailors S\n",
    "    where S.age <= 60\n",
    "    group by S.rating\n",
    "    having minage >= 20\n",
    "\"\"\")\n",
    "for row in cursor:\n",
    "    print(row)"
   ]
  },
  {
   "cell_type": "markdown",
   "metadata": {},
   "source": [
    "### Find the number of reservations for each red boat"
   ]
  },
  {
   "cell_type": "code",
   "execution_count": null,
   "metadata": {},
   "outputs": [],
   "source": [
    "cursor.execute(\"\"\"\n",
    "select B.bid, count(*) as scount\n",
    "    from Sailors S, Boats B, Reserves R\n",
    "    where S.sid=R.sid and R.bid=B.bid and B.color='red'\n",
    "    group by B.bid\n",
    "\"\"\")\n",
    "for row in cursor:\n",
    "    print(row)"
   ]
  },
  {
   "cell_type": "markdown",
   "metadata": {},
   "source": [
    "Above, we are grouping over a join of three relations\n",
    "\n",
    "What do we get if we remove B.color='red' from the **where** clause and add a **having** clause with this condition?"
   ]
  },
  {
   "cell_type": "code",
   "execution_count": null,
   "metadata": {},
   "outputs": [],
   "source": [
    "cursor.execute(\"\"\"\n",
    "select B.bid, count(*) as scount\n",
    "    from Sailors S, Boats B, Reserves R\n",
    "    where S.sid=R.sid and R.bid=B.bid\n",
    "    group by B.bid\n",
    "    having B.color='red'\n",
    "\"\"\")\n",
    "for row in cursor:\n",
    "    print(row)"
   ]
  },
  {
   "cell_type": "markdown",
   "metadata": {},
   "source": [
    "What if we drop Sailors and the condition involving S.sid?"
   ]
  },
  {
   "cell_type": "code",
   "execution_count": null,
   "metadata": {},
   "outputs": [],
   "source": [
    "cursor.execute(\"\"\"\n",
    "select B.bid, count(*) as scount\n",
    "    from Boats B, Reserves R\n",
    "    where R.bid=B.bid\n",
    "    group by B.bid\n",
    "    having B.color='red'\n",
    "\"\"\")\n",
    "for row in cursor:\n",
    "    print(row)"
   ]
  },
  {
   "cell_type": "markdown",
   "metadata": {},
   "source": [
    "### Find age of the youngest sailor 18 or older for each rating with at least 2 sailors (of any age)."
   ]
  },
  {
   "cell_type": "code",
   "execution_count": null,
   "metadata": {},
   "outputs": [],
   "source": [
    "cursor.execute(\"\"\"\n",
    "select S.rating, min(S.age)\n",
    "    from Sailors S\n",
    "    where S.age >= 18\n",
    "    group by S.rating\n",
    "    having 1 < (select count(*)\n",
    "                    from Sailors S2\n",
    "                    where S.rating=S2.rating)\n",
    "\"\"\")\n",
    "for row in cursor:\n",
    "    print(row)"
   ]
  },
  {
   "cell_type": "markdown",
   "metadata": {},
   "source": [
    "Above shows **having** clause can also contain a subquery.\n",
    "\n",
    "Compare this with the query where we considered only ratings with 2 sailors over 18.\n",
    "\n",
    "What if **having** clause is replaced by **having count**(*) > 1"
   ]
  },
  {
   "cell_type": "code",
   "execution_count": null,
   "metadata": {},
   "outputs": [],
   "source": [
    "cursor.execute(\"\"\"\n",
    "select S.rating, min(S.age)\n",
    "    from Sailors S\n",
    "    where S.age >= 18\n",
    "    group by S.rating\n",
    "    having count(*) > 1\n",
    "\"\"\")\n",
    "for row in cursor:\n",
    "    print(row)"
   ]
  },
  {
   "cell_type": "markdown",
   "metadata": {
    "collapsed": true
   },
   "source": [
    "Why the different answer?"
   ]
  },
  {
   "cell_type": "markdown",
   "metadata": {},
   "source": [
    "### Find those ratings for which the average age is the minimum over all ratings\n",
    "\n",
    "This first attempt won't work because aggregate operations cannot be nested."
   ]
  },
  {
   "cell_type": "code",
   "execution_count": null,
   "metadata": {},
   "outputs": [],
   "source": [
    "cursor.execute(\"\"\"\n",
    "select S.rating\n",
    "    from Sailors S\n",
    "    where S.age = (select min(avg(S2.age)) from Sailors S2)\n",
    "\"\"\")\n",
    "for row in cursor:\n",
    "    print(row)"
   ]
  },
  {
   "cell_type": "markdown",
   "metadata": {},
   "source": [
    "This next one doesn't work either. Perhaps an sqlite limitation?"
   ]
  },
  {
   "cell_type": "code",
   "execution_count": null,
   "metadata": {},
   "outputs": [],
   "source": [
    "cursor.execute(\"\"\"\n",
    "select Temp.rating, Temp.avgage\n",
    "from (select S.rating, avg(S.age) as avgage\n",
    "      from Sailors S\n",
    "      group by S.rating) as Temp\n",
    "where Temp.avgage = (select min(Temp.avgage) from Temp)\n",
    "\"\"\")\n",
    "for row in cursor:\n",
    "    print(row)"
   ]
  },
  {
   "cell_type": "markdown",
   "metadata": {},
   "source": [
    "I can create a temporary table myself. "
   ]
  },
  {
   "cell_type": "code",
   "execution_count": null,
   "metadata": {},
   "outputs": [],
   "source": [
    "# drop the temporary table if it already exists to allow me to run\n",
    "# this more than once\n",
    "cursor.execute(\"\"\"\n",
    "drop table if exists Temp\n",
    "\"\"\");\n",
    "# create the temporary table\n",
    "cursor.execute(\"\"\"\n",
    "create temp table Temp as\n",
    "    select S.rating as rating, avg(S.age) as avgage\n",
    "        from Sailors S\n",
    "        group by S.rating\n",
    "\"\"\")\n",
    "# show its content\n",
    "cursor.execute(\"\"\"\n",
    "select * from Temp\n",
    "\"\"\")\n",
    "print('temp table')\n",
    "for row in cursor:\n",
    "    print(row)\n",
    "# now do the query on the temporary table\n",
    "cursor.execute(\"\"\"\n",
    "select T.rating, T.avgage\n",
    "    from Temp T\n",
    "    where T.avgage = (select min(Temp.avgage) from Temp)\n",
    "\"\"\")\n",
    "print('final result')\n",
    "for row in cursor:\n",
    "    print(row)"
   ]
  },
  {
   "cell_type": "markdown",
   "metadata": {},
   "source": [
    "## Null Values\n",
    "\n",
    "* Field values in a tuple are sometimes unknown (e.g., a rating has not been assigned) or _inapplicable_ (e.g., no spouse's name).\n",
    "* SQL provides a special value _null_ for such situations.\n",
    "* The presence of _null_ complicates many issues.\n",
    " + What happens if we compare with _null_?\n",
    " + Special operators need to check if value is [not] null\n",
    " + We need a _3-valued logic_ (true, false and unknown)\n",
    " + Meaning of constructs must be defined carefully (e.g. **where** eliminates rows that don't evaluate to true.)\n",
    " + New operators (e.g. _outer joins_) needed."
   ]
  },
  {
   "cell_type": "code",
   "execution_count": null,
   "metadata": {},
   "outputs": [],
   "source": [
    "# a place to play, try replacing the operator\n",
    "cursor.execute(\"\"\"\n",
    "select 1 = 1 and 1 < null;\n",
    "\"\"\")\n",
    "for row in cursor:\n",
    "    print(row)"
   ]
  },
  {
   "cell_type": "markdown",
   "metadata": {},
   "source": [
    "SQL introduces a variety of joins that take advantage of _null_ values. In a normal join, Sailors that do not match some row in Reserves according to the join condition do not appear in the result. In an **outer join** Sailors without a matching Reserves row appear once in the result with the columns inherited from Reserves set to _null_ values."
   ]
  },
  {
   "cell_type": "code",
   "execution_count": null,
   "metadata": {},
   "outputs": [],
   "source": [
    "cursor.execute(\"\"\"\n",
    "select S.sid, R.bid\n",
    "    from Sailors S natural left outer join Reserves R\n",
    "\"\"\")\n",
    "for row in cursor:\n",
    "    print(row)"
   ]
  },
  {
   "cell_type": "markdown",
   "metadata": {},
   "source": [
    "We can disallow _null_ values by specifying **not null** as part of the field definition. **primary key** fields are prohibitied from having _null_ values."
   ]
  },
  {
   "cell_type": "code",
   "execution_count": null,
   "metadata": {
    "collapsed": true
   },
   "outputs": [],
   "source": []
  }
 ],
 "metadata": {
  "kernelspec": {
   "display_name": "Python 3",
   "language": "python",
   "name": "python3"
  },
  "language_info": {
   "codemirror_mode": {
    "name": "ipython",
    "version": 3
   },
   "file_extension": ".py",
   "mimetype": "text/x-python",
   "name": "python",
   "nbconvert_exporter": "python",
   "pygments_lexer": "ipython3",
   "version": "3.6.1"
  }
 },
 "nbformat": 4,
 "nbformat_minor": 1
}
